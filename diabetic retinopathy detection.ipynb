{
 "cells": [
  {
   "cell_type": "markdown",
   "id": "d58a4abb",
   "metadata": {
    "papermill": {
     "duration": 0.0357,
     "end_time": "2022-05-07T00:03:00.251996",
     "exception": false,
     "start_time": "2022-05-07T00:03:00.216296",
     "status": "completed"
    },
    "tags": []
   },
   "source": [
    "# Non-proliferative diabetic retinopathy\n",
    "\n",
    "Non-proliferative diabetic retinopathy (NPDR) is the early stage of the disease in which symptoms will be mild or nonexistent. In NPDR, the blood vessels in the retina are weakened. Tiny bulges in the blood vessels, called microaneurysms, may leak fluid into the retina. This leakage may lead to swelling of the macula.\n",
    "\n",
    "# Proliferative diabetic retinopathy\n",
    "\n",
    "Proliferative diabetic retinopathy (PDR) is the more advanced form of the disease. At this stage, circulation problems deprive the retina of oxygen. new, fragile blood vessels begin to grow in the retina and into the vitreous, the gel-like fluid that fills the back of the eye. The new blood vessels may leak blood into the vitreous, clouding vision.\n"
   ]
  },
  {
   "cell_type": "markdown",
   "id": "db6fd26f",
   "metadata": {
    "papermill": {
     "duration": 0.036151,
     "end_time": "2022-05-07T00:03:00.399598",
     "exception": false,
     "start_time": "2022-05-07T00:03:00.363447",
     "status": "completed"
    },
    "tags": []
   },
   "source": [
    "# Importing"
   ]
  },
  {
   "cell_type": "code",
   "execution_count": 1,
   "id": "0eded0cf",
   "metadata": {
    "execution": {
     "iopub.execute_input": "2022-05-07T00:03:00.475435Z",
     "iopub.status.busy": "2022-05-07T00:03:00.474693Z",
     "iopub.status.idle": "2022-05-07T00:03:06.384126Z",
     "shell.execute_reply": "2022-05-07T00:03:06.383294Z"
    },
    "papermill": {
     "duration": 5.950374,
     "end_time": "2022-05-07T00:03:06.386715",
     "exception": false,
     "start_time": "2022-05-07T00:03:00.436341",
     "status": "completed"
    },
    "tags": []
   },
   "outputs": [],
   "source": [
    "import os\n",
    "import random\n",
    "import pandas as pd \n",
    "import numpy as np \n",
    "import matplotlib.pyplot as plt\n",
    "import cv2\n",
    "from tensorflow import keras\n",
    "import tensorflow as tf\n",
    "import keras.backend as K\n",
    "from tensorflow.keras.preprocessing.image import ImageDataGenerator\n",
    "from tensorflow.keras.models import Sequential\n",
    "from tensorflow.keras.layers import InputLayer, BatchNormalization, Dropout, Flatten, Dense, Activation, MaxPool2D, Conv2D\n",
    "from tensorflow.keras.layers import Conv2D, Dense, Flatten, Dropout, Activation\n",
    "from tensorflow.keras.layers import BatchNormalization, Reshape, MaxPooling2D, GlobalAveragePooling2D\n",
    "from tensorflow.keras.callbacks import EarlyStopping, ModelCheckpoint, ReduceLROnPlateau\n",
    "\n",
    "from PIL import Image\n",
    "from PIL import UnidentifiedImageError\n",
    "\n",
    "from sklearn.preprocessing import OneHotEncoder\n",
    "\n",
    "from sklearn.model_selection import train_test_split\n",
    "\n",
    "from sklearn.metrics import classification_report, confusion_matrix\n",
    "import itertools\n",
    "\n",
    "import warnings\n",
    "warnings.filterwarnings('ignore')"
   ]
  },
  {
   "cell_type": "code",
   "execution_count": 2,
   "id": "7bfde985",
   "metadata": {
    "execution": {
     "iopub.execute_input": "2022-05-07T00:03:06.461011Z",
     "iopub.status.busy": "2022-05-07T00:03:06.460771Z",
     "iopub.status.idle": "2022-05-07T00:03:06.900320Z",
     "shell.execute_reply": "2022-05-07T00:03:06.899581Z"
    },
    "papermill": {
     "duration": 0.479251,
     "end_time": "2022-05-07T00:03:06.902332",
     "exception": false,
     "start_time": "2022-05-07T00:03:06.423081",
     "status": "completed"
    },
    "tags": []
   },
   "outputs": [],
   "source": [
    "Healthy = os.listdir(r\"C:\\Users\\Mouli\\Desktop\\Desktop\\Healthy\\\")\n",
    "Mild = os.listdir(r\"C:\\Users\\Mouli\\Desktop\\Desktop\\Mild DR\\\")\n",
    "Moderate = os.listdir(r\"C:\\Users\\Mouli\\Desktop\\Desktop\\Moderate DR\\\")\n",
    "Proliferate = os.listdir(r\"C:\\Users\\Mouli\\Desktop\\Desktop\\Proliferate DR\\\")\n",
    "Severe = os.listdir(r\"C:\\Users\\Mouli\\Desktop\\Desktop\\Severe DR\\\")"
   ]
  },
  {
   "cell_type": "markdown",
   "id": "f47a299d",
   "metadata": {
    "papermill": {
     "duration": 0.034176,
     "end_time": "2022-05-07T00:03:06.971262",
     "exception": false,
     "start_time": "2022-05-07T00:03:06.937086",
     "status": "completed"
    },
    "tags": []
   },
   "source": [
    "# Data Preprocessing and classify into 3 classes"
   ]
  },
  {
   "cell_type": "code",
   "execution_count": 3,
   "id": "7da8b7f3",
   "metadata": {
    "execution": {
     "iopub.execute_input": "2022-05-07T00:03:07.041179Z",
     "iopub.status.busy": "2022-05-07T00:03:07.040951Z",
     "iopub.status.idle": "2022-05-07T00:03:07.044714Z",
     "shell.execute_reply": "2022-05-07T00:03:07.043984Z"
    },
    "papermill": {
     "duration": 0.040451,
     "end_time": "2022-05-07T00:03:07.046602",
     "exception": false,
     "start_time": "2022-05-07T00:03:07.006151",
     "status": "completed"
    },
    "tags": []
   },
   "outputs": [],
   "source": [
    "img_w, img_h = 225, 225\n",
    "X = []\n",
    "y = []"
   ]
  },
  {
   "cell_type": "code",
   "execution_count": 4,
   "id": "4936dc51",
   "metadata": {
    "execution": {
     "iopub.execute_input": "2022-05-07T00:03:07.117407Z",
     "iopub.status.busy": "2022-05-07T00:03:07.116986Z",
     "iopub.status.idle": "2022-05-07T00:03:14.427178Z",
     "shell.execute_reply": "2022-05-07T00:03:14.426376Z"
    },
    "papermill": {
     "duration": 7.348076,
     "end_time": "2022-05-07T00:03:14.429120",
     "exception": false,
     "start_time": "2022-05-07T00:03:07.081044",
     "status": "completed"
    },
    "tags": []
   },
   "outputs": [],
   "source": [
    "for i in Healthy:\n",
    "    try:\n",
    "        img = Image.open(r\"C:\\Users\\Mouli\\Desktop\\Desktop\\Healthy\\\" + i).convert('RGB')\n",
    "        img = img.resize((img_w,img_h))\n",
    "        X.append(np.asarray(img))\n",
    "        y.append(0)\n",
    "    except UnidentifiedImageError:\n",
    "        pass"
   ]
  },
  {
   "cell_type": "code",
   "execution_count": 5,
   "id": "6d2d28c9",
   "metadata": {
    "execution": {
     "iopub.execute_input": "2022-05-07T00:03:14.501254Z",
     "iopub.status.busy": "2022-05-07T00:03:14.501016Z",
     "iopub.status.idle": "2022-05-07T00:03:17.398335Z",
     "shell.execute_reply": "2022-05-07T00:03:17.397592Z"
    },
    "papermill": {
     "duration": 2.936297,
     "end_time": "2022-05-07T00:03:17.400360",
     "exception": false,
     "start_time": "2022-05-07T00:03:14.464063",
     "status": "completed"
    },
    "tags": []
   },
   "outputs": [],
   "source": [
    "for i in Mild:\n",
    "    try:\n",
    "        img = Image.open(r\"C:\\Users\\Mouli\\Desktop\\Desktop\\Mild DR\\\" + i).convert('RGB')\n",
    "        img = img.resize((img_w,img_h))\n",
    "        X.append(np.asarray(img))\n",
    "        y.append(1)\n",
    "    except UnidentifiedImageError:\n",
    "        pass"
   ]
  },
  {
   "cell_type": "code",
   "execution_count": 6,
   "id": "b8fff142",
   "metadata": {
    "execution": {
     "iopub.execute_input": "2022-05-07T00:03:17.472337Z",
     "iopub.status.busy": "2022-05-07T00:03:17.472107Z",
     "iopub.status.idle": "2022-05-07T00:03:24.183509Z",
     "shell.execute_reply": "2022-05-07T00:03:24.182756Z"
    },
    "papermill": {
     "duration": 6.748939,
     "end_time": "2022-05-07T00:03:24.185490",
     "exception": false,
     "start_time": "2022-05-07T00:03:17.436551",
     "status": "completed"
    },
    "tags": []
   },
   "outputs": [],
   "source": [
    "for i in Moderate:\n",
    "    try:\n",
    "        img = Image.open(r\"C:\\Users\\Mouli\\Desktop\\Desktop\\Moderate DR\\\" + i).convert('RGB')\n",
    "        img = img.resize((img_w,img_h))\n",
    "        X.append(np.asarray(img))\n",
    "        y.append(1)\n",
    "    except UnidentifiedImageError:\n",
    "        pass"
   ]
  },
  {
   "cell_type": "code",
   "execution_count": 7,
   "id": "acc505d8",
   "metadata": {
    "execution": {
     "iopub.execute_input": "2022-05-07T00:03:24.258015Z",
     "iopub.status.busy": "2022-05-07T00:03:24.257777Z",
     "iopub.status.idle": "2022-05-07T00:03:26.369219Z",
     "shell.execute_reply": "2022-05-07T00:03:26.368394Z"
    },
    "papermill": {
     "duration": 2.149878,
     "end_time": "2022-05-07T00:03:26.371462",
     "exception": false,
     "start_time": "2022-05-07T00:03:24.221584",
     "status": "completed"
    },
    "tags": []
   },
   "outputs": [],
   "source": [
    "for i in Proliferate:\n",
    "    try:\n",
    "        img = Image.open(r\"C:\\Users\\Mouli\\Desktop\\Desktop\\Proliferate DR\\\" + i).convert('RGB')\n",
    "        img = img.resize((img_w,img_h))\n",
    "        X.append(np.asarray(img))\n",
    "        y.append(2)\n",
    "    except UnidentifiedImageError:\n",
    "        pass"
   ]
  },
  {
   "cell_type": "code",
   "execution_count": 8,
   "id": "b121f87f",
   "metadata": {
    "execution": {
     "iopub.execute_input": "2022-05-07T00:03:26.443471Z",
     "iopub.status.busy": "2022-05-07T00:03:26.443216Z",
     "iopub.status.idle": "2022-05-07T00:03:28.001738Z",
     "shell.execute_reply": "2022-05-07T00:03:28.000971Z"
    },
    "papermill": {
     "duration": 1.596144,
     "end_time": "2022-05-07T00:03:28.003850",
     "exception": false,
     "start_time": "2022-05-07T00:03:26.407706",
     "status": "completed"
    },
    "tags": []
   },
   "outputs": [],
   "source": [
    "for i in Severe:\n",
    "    try:\n",
    "        img = Image.open(r\"C:\\Users\\Mouli\\Desktop\\Desktop\\Severe DR\\\" + i).convert('RGB')\n",
    "        img = img.resize((img_w,img_h))\n",
    "        X.append(np.asarray(img))\n",
    "        y.append(2)\n",
    "    except UnidentifiedImageError:\n",
    "        pass"
   ]
  },
  {
   "cell_type": "code",
   "execution_count": 9,
   "id": "8c193d50",
   "metadata": {
    "execution": {
     "iopub.execute_input": "2022-05-07T00:03:28.074009Z",
     "iopub.status.busy": "2022-05-07T00:03:28.073780Z",
     "iopub.status.idle": "2022-05-07T00:03:28.209215Z",
     "shell.execute_reply": "2022-05-07T00:03:28.206900Z"
    },
    "papermill": {
     "duration": 0.172303,
     "end_time": "2022-05-07T00:03:28.211095",
     "exception": false,
     "start_time": "2022-05-07T00:03:28.038792",
     "status": "completed"
    },
    "tags": []
   },
   "outputs": [
    {
     "name": "stdout",
     "output_type": "stream",
     "text": [
      "(2750, 225, 225, 3) (2750,)\n"
     ]
    }
   ],
   "source": [
    "X = np.asarray(X)\n",
    "y = np.asarray(y)\n",
    "print(X.shape, y.shape)"
   ]
  },
  {
   "cell_type": "code",
   "execution_count": 10,
   "id": "1283eced",
   "metadata": {
    "execution": {
     "iopub.execute_input": "2022-05-07T00:03:28.282474Z",
     "iopub.status.busy": "2022-05-07T00:03:28.282254Z",
     "iopub.status.idle": "2022-05-07T00:03:28.835781Z",
     "shell.execute_reply": "2022-05-07T00:03:28.834886Z"
    },
    "papermill": {
     "duration": 0.591685,
     "end_time": "2022-05-07T00:03:28.838246",
     "exception": false,
     "start_time": "2022-05-07T00:03:28.246561",
     "status": "completed"
    },
    "tags": []
   },
   "outputs": [],
   "source": [
    "x = X.astype('float32')\n",
    "x /= 255"
   ]
  },
  {
   "cell_type": "code",
   "execution_count": 11,
   "id": "35ea1dee",
   "metadata": {
    "execution": {
     "iopub.execute_input": "2022-05-07T00:03:28.912550Z",
     "iopub.status.busy": "2022-05-07T00:03:28.911986Z",
     "iopub.status.idle": "2022-05-07T00:03:28.918325Z",
     "shell.execute_reply": "2022-05-07T00:03:28.917540Z"
    },
    "papermill": {
     "duration": 0.044101,
     "end_time": "2022-05-07T00:03:28.920397",
     "exception": false,
     "start_time": "2022-05-07T00:03:28.876296",
     "status": "completed"
    },
    "tags": []
   },
   "outputs": [
    {
     "name": "stdout",
     "output_type": "stream",
     "text": [
      "[1. 0. 0.]\n"
     ]
    }
   ],
   "source": [
    "num_classes = 3\n",
    "\n",
    "labels = keras.utils.to_categorical(y, num_classes)\n",
    "print(labels[0])"
   ]
  },
  {
   "cell_type": "markdown",
   "id": "9d96c484",
   "metadata": {
    "papermill": {
     "duration": 0.034373,
     "end_time": "2022-05-07T00:03:28.992582",
     "exception": false,
     "start_time": "2022-05-07T00:03:28.958209",
     "status": "completed"
    },
    "tags": []
   },
   "source": [
    "# Data split to train, validation and test"
   ]
  },
  {
   "cell_type": "code",
   "execution_count": 12,
   "id": "9b90390d",
   "metadata": {
    "execution": {
     "iopub.execute_input": "2022-05-07T00:03:29.063554Z",
     "iopub.status.busy": "2022-05-07T00:03:29.063080Z",
     "iopub.status.idle": "2022-05-07T00:03:29.967070Z",
     "shell.execute_reply": "2022-05-07T00:03:29.966251Z"
    },
    "papermill": {
     "duration": 0.942894,
     "end_time": "2022-05-07T00:03:29.970259",
     "exception": false,
     "start_time": "2022-05-07T00:03:29.027365",
     "status": "completed"
    },
    "tags": []
   },
   "outputs": [
    {
     "name": "stdout",
     "output_type": "stream",
     "text": [
      "Number of train: 2227\n",
      "Number of validation: 248\n",
      "Number of test: 275\n"
     ]
    }
   ],
   "source": [
    "x_train1, x_test, y_train1, y_test = train_test_split(x, labels, test_size = 0.1, random_state=5)\n",
    "x_train,x_val,y_train,y_val=train_test_split(x_train1,y_train1,test_size=0.1,random_state=5)\n",
    "\n",
    "print('Number of train: {}'.format(len(x_train)))\n",
    "print('Number of validation: {}'.format(len(x_val)))\n",
    "print('Number of test: {}'.format(len(x_test)))"
   ]
  },
  {
   "cell_type": "markdown",
   "id": "08b3cb09",
   "metadata": {
    "papermill": {
     "duration": 0.037934,
     "end_time": "2022-05-07T00:03:30.044826",
     "exception": false,
     "start_time": "2022-05-07T00:03:30.006892",
     "status": "completed"
    },
    "tags": []
   },
   "source": [
    "# Data Augmentation"
   ]
  },
  {
   "cell_type": "code",
   "execution_count": 13,
   "id": "d0c34002",
   "metadata": {
    "execution": {
     "iopub.execute_input": "2022-05-07T00:03:30.116329Z",
     "iopub.status.busy": "2022-05-07T00:03:30.116074Z",
     "iopub.status.idle": "2022-05-07T00:03:30.613771Z",
     "shell.execute_reply": "2022-05-07T00:03:30.612696Z"
    },
    "papermill": {
     "duration": 0.537544,
     "end_time": "2022-05-07T00:03:30.617361",
     "exception": false,
     "start_time": "2022-05-07T00:03:30.079817",
     "status": "completed"
    },
    "tags": []
   },
   "outputs": [],
   "source": [
    "datagen = ImageDataGenerator(\n",
    "    featurewise_center=False,\n",
    "    samplewise_center=False,\n",
    "    featurewise_std_normalization=False,\n",
    "    samplewise_std_normalization=False,\n",
    "    zca_whitening=False,\n",
    "    rotation_range=20.,\n",
    "    width_shift_range=0.5,\n",
    "    height_shift_range=0.5,\n",
    "    shear_range=30.,\n",
    "    zoom_range=0.,\n",
    "    channel_shift_range=0.,\n",
    "    fill_mode='nearest',\n",
    "    cval=0.,\n",
    "    horizontal_flip=0.2,\n",
    "    vertical_flip=0.2,\n",
    "    rescale=None)\n",
    "\n",
    "datagen.fit(x_train)"
   ]
  },
  {
   "cell_type": "markdown",
   "id": "1e7332ab",
   "metadata": {
    "papermill": {
     "duration": 0.034842,
     "end_time": "2022-05-07T00:03:30.707490",
     "exception": false,
     "start_time": "2022-05-07T00:03:30.672648",
     "status": "completed"
    },
    "tags": []
   },
   "source": [
    "# Modeling"
   ]
  },
  {
   "cell_type": "code",
   "execution_count": 14,
   "id": "b94c2728",
   "metadata": {
    "execution": {
     "iopub.execute_input": "2022-05-07T00:03:30.780012Z",
     "iopub.status.busy": "2022-05-07T00:03:30.779473Z",
     "iopub.status.idle": "2022-05-07T00:03:38.484439Z",
     "shell.execute_reply": "2022-05-07T00:03:38.483558Z"
    },
    "papermill": {
     "duration": 7.74417,
     "end_time": "2022-05-07T00:03:38.486691",
     "exception": false,
     "start_time": "2022-05-07T00:03:30.742521",
     "status": "completed"
    },
    "tags": []
   },
   "outputs": [
    {
     "name": "stderr",
     "output_type": "stream",
     "text": [
      "2022-05-07 00:03:30.872615: I tensorflow/stream_executor/cuda/cuda_gpu_executor.cc:937] successful NUMA node read from SysFS had negative value (-1), but there must be at least one NUMA node, so returning NUMA node zero\n",
      "2022-05-07 00:03:30.959376: I tensorflow/stream_executor/cuda/cuda_gpu_executor.cc:937] successful NUMA node read from SysFS had negative value (-1), but there must be at least one NUMA node, so returning NUMA node zero\n",
      "2022-05-07 00:03:30.960200: I tensorflow/stream_executor/cuda/cuda_gpu_executor.cc:937] successful NUMA node read from SysFS had negative value (-1), but there must be at least one NUMA node, so returning NUMA node zero\n",
      "2022-05-07 00:03:30.961369: I tensorflow/core/platform/cpu_feature_guard.cc:142] This TensorFlow binary is optimized with oneAPI Deep Neural Network Library (oneDNN) to use the following CPU instructions in performance-critical operations:  AVX2 AVX512F FMA\n",
      "To enable them in other operations, rebuild TensorFlow with the appropriate compiler flags.\n",
      "2022-05-07 00:03:30.961691: I tensorflow/stream_executor/cuda/cuda_gpu_executor.cc:937] successful NUMA node read from SysFS had negative value (-1), but there must be at least one NUMA node, so returning NUMA node zero\n",
      "2022-05-07 00:03:30.962372: I tensorflow/stream_executor/cuda/cuda_gpu_executor.cc:937] successful NUMA node read from SysFS had negative value (-1), but there must be at least one NUMA node, so returning NUMA node zero\n",
      "2022-05-07 00:03:30.963030: I tensorflow/stream_executor/cuda/cuda_gpu_executor.cc:937] successful NUMA node read from SysFS had negative value (-1), but there must be at least one NUMA node, so returning NUMA node zero\n",
      "2022-05-07 00:03:32.853116: I tensorflow/stream_executor/cuda/cuda_gpu_executor.cc:937] successful NUMA node read from SysFS had negative value (-1), but there must be at least one NUMA node, so returning NUMA node zero\n",
      "2022-05-07 00:03:32.854547: I tensorflow/stream_executor/cuda/cuda_gpu_executor.cc:937] successful NUMA node read from SysFS had negative value (-1), but there must be at least one NUMA node, so returning NUMA node zero\n",
      "2022-05-07 00:03:32.855337: I tensorflow/stream_executor/cuda/cuda_gpu_executor.cc:937] successful NUMA node read from SysFS had negative value (-1), but there must be at least one NUMA node, so returning NUMA node zero\n",
      "2022-05-07 00:03:32.856566: I tensorflow/core/common_runtime/gpu/gpu_device.cc:1510] Created device /job:localhost/replica:0/task:0/device:GPU:0 with 15403 MB memory:  -> device: 0, name: Tesla P100-PCIE-16GB, pci bus id: 0000:00:04.0, compute capability: 6.0\n"
     ]
    },
    {
     "name": "stdout",
     "output_type": "stream",
     "text": [
      "Downloading data from https://storage.googleapis.com/tensorflow/keras-applications/inception_v3/inception_v3_weights_tf_dim_ordering_tf_kernels_notop.h5\n",
      "87916544/87910968 [==============================] - 3s 0us/step\n",
      "87924736/87910968 [==============================] - 3s 0us/step\n"
     ]
    }
   ],
   "source": [
    "base_model = tf.keras.applications.InceptionV3(input_shape=(225,225,3),include_top=False,weights=\"imagenet\")"
   ]
  },
  {
   "cell_type": "code",
   "execution_count": 15,
   "id": "e5b05800",
   "metadata": {
    "execution": {
     "iopub.execute_input": "2022-05-07T00:03:38.585584Z",
     "iopub.status.busy": "2022-05-07T00:03:38.585040Z",
     "iopub.status.idle": "2022-05-07T00:03:38.601856Z",
     "shell.execute_reply": "2022-05-07T00:03:38.601055Z"
    },
    "papermill": {
     "duration": 0.068342,
     "end_time": "2022-05-07T00:03:38.603796",
     "exception": false,
     "start_time": "2022-05-07T00:03:38.535454",
     "status": "completed"
    },
    "tags": []
   },
   "outputs": [],
   "source": [
    "for layer in base_model.layers[:-10]:\n",
    "    layer.trainable=False"
   ]
  },
  {
   "cell_type": "code",
   "execution_count": 16,
   "id": "efa72fe7",
   "metadata": {
    "execution": {
     "iopub.execute_input": "2022-05-07T00:03:38.699519Z",
     "iopub.status.busy": "2022-05-07T00:03:38.699246Z",
     "iopub.status.idle": "2022-05-07T00:03:39.541420Z",
     "shell.execute_reply": "2022-05-07T00:03:39.540463Z"
    },
    "papermill": {
     "duration": 0.892174,
     "end_time": "2022-05-07T00:03:39.543779",
     "exception": false,
     "start_time": "2022-05-07T00:03:38.651605",
     "status": "completed"
    },
    "tags": []
   },
   "outputs": [
    {
     "name": "stdout",
     "output_type": "stream",
     "text": [
      "Model: \"sequential\"\n",
      "_________________________________________________________________\n",
      "Layer (type)                 Output Shape              Param #   \n",
      "=================================================================\n",
      "inception_v3 (Functional)    (None, 5, 5, 2048)        21802784  \n",
      "_________________________________________________________________\n",
      "dropout (Dropout)            (None, 5, 5, 2048)        0         \n",
      "_________________________________________________________________\n",
      "flatten (Flatten)            (None, 51200)             0         \n",
      "_________________________________________________________________\n",
      "dense (Dense)                (None, 128)               6553728   \n",
      "_________________________________________________________________\n",
      "dense_1 (Dense)              (None, 128)               16512     \n",
      "_________________________________________________________________\n",
      "dense_2 (Dense)              (None, 3)                 387       \n",
      "=================================================================\n",
      "Total params: 28,373,411\n",
      "Trainable params: 6,570,819\n",
      "Non-trainable params: 21,802,592\n",
      "_________________________________________________________________\n"
     ]
    }
   ],
   "source": [
    "model=Sequential()\n",
    "model.add(base_model)\n",
    "model.add(Dropout(0.2))\n",
    "model.add(Flatten())\n",
    "model.add(Dense(128, activation='relu'))\n",
    "model.add(Dense(128, activation='relu'))\n",
    "model.add(Dense(3, activation='softmax'))\n",
    "model.summary()"
   ]
  },
  {
   "cell_type": "code",
   "execution_count": 17,
   "id": "6561e651",
   "metadata": {
    "execution": {
     "iopub.execute_input": "2022-05-07T00:03:39.641649Z",
     "iopub.status.busy": "2022-05-07T00:03:39.641122Z",
     "iopub.status.idle": "2022-05-07T00:03:40.655766Z",
     "shell.execute_reply": "2022-05-07T00:03:40.654955Z"
    },
    "papermill": {
     "duration": 1.065674,
     "end_time": "2022-05-07T00:03:40.657930",
     "exception": false,
     "start_time": "2022-05-07T00:03:39.592256",
     "status": "completed"
    },
    "tags": []
   },
   "outputs": [
    {
     "data": {
      "image/png": "[encoded data removed]",
      "text/plain": [
       "<IPython.core.display.Image object>"
      ]
     },
     "execution_count": 17,
     "metadata": {},
     "output_type": "execute_result"
    }
   ],
   "source": [
    "from tensorflow.keras.utils import plot_model\n",
    "from IPython.display import Image\n",
    "plot_model(model, to_file='convnet.png', show_shapes=True,show_layer_names=True)\n",
    "Image(filename='convnet.png')"
   ]
  },
  {
   "cell_type": "code",
   "execution_count": 18,
   "id": "b2f46ab3",
   "metadata": {
    "execution": {
     "iopub.execute_input": "2022-05-07T00:03:40.748249Z",
     "iopub.status.busy": "2022-05-07T00:03:40.747981Z",
     "iopub.status.idle": "2022-05-07T00:03:40.754279Z",
     "shell.execute_reply": "2022-05-07T00:03:40.753591Z"
    },
    "papermill": {
     "duration": 0.053779,
     "end_time": "2022-05-07T00:03:40.755944",
     "exception": false,
     "start_time": "2022-05-07T00:03:40.702165",
     "status": "completed"
    },
    "tags": []
   },
   "outputs": [],
   "source": [
    "def f1_score(y_true, y_pred):\n",
    "    true_positives = K.sum(K.round(K.clip(y_true * y_pred, 0, 1)))\n",
    "    possible_positives = K.sum(K.round(K.clip(y_true, 0, 1)))\n",
    "    predicted_positives = K.sum(K.round(K.clip(y_pred, 0, 1)))\n",
    "    precision = true_positives / (predicted_positives + K.epsilon())\n",
    "    recall = true_positives / (possible_positives + K.epsilon())\n",
    "    f1_val = 3*(precision*recall)/(precision+recall+K.epsilon())\n",
    "    return f1_val"
   ]
  },
  {
   "cell_type": "code",
   "execution_count": 19,
   "id": "2fd74e77",
   "metadata": {
    "execution": {
     "iopub.execute_input": "2022-05-07T00:03:40.863785Z",
     "iopub.status.busy": "2022-05-07T00:03:40.863287Z",
     "iopub.status.idle": "2022-05-07T00:03:40.920965Z",
     "shell.execute_reply": "2022-05-07T00:03:40.917597Z"
    },
    "papermill": {
     "duration": 0.123612,
     "end_time": "2022-05-07T00:03:40.923949",
     "exception": false,
     "start_time": "2022-05-07T00:03:40.800337",
     "status": "completed"
    },
    "tags": []
   },
   "outputs": [],
   "source": [
    "METRICS = [\n",
    "      tf.keras.metrics.CategoricalAccuracy(name='accuracy'),\n",
    "      tf.keras.metrics.Precision(name='precision'),\n",
    "      tf.keras.metrics.Recall(name='recall'),  \n",
    "      tf.keras.metrics.AUC(name='auc'),\n",
    "        f1_score,\n",
    "]"
   ]
  },
  {
   "cell_type": "code",
   "execution_count": 20,
   "id": "eacbb301",
   "metadata": {
    "execution": {
     "iopub.execute_input": "2022-05-07T00:03:41.014357Z",
     "iopub.status.busy": "2022-05-07T00:03:41.014118Z",
     "iopub.status.idle": "2022-05-07T00:03:41.018841Z",
     "shell.execute_reply": "2022-05-07T00:03:41.017953Z"
    },
    "papermill": {
     "duration": 0.052824,
     "end_time": "2022-05-07T00:03:41.020837",
     "exception": false,
     "start_time": "2022-05-07T00:03:40.968013",
     "status": "completed"
    },
    "tags": []
   },
   "outputs": [],
   "source": [
    "lrd = ReduceLROnPlateau(monitor = 'recall',patience = 10,verbose = 1,factor = 0.50, min_lr = 1e-6)\n",
    "mcp = ModelCheckpoint('model.h5')\n",
    "es = EarlyStopping(verbose=1, patience=10)"
   ]
  },
  {
   "cell_type": "code",
   "execution_count": 21,
   "id": "e6b0be29",
   "metadata": {
    "execution": {
     "iopub.execute_input": "2022-05-07T00:03:41.110940Z",
     "iopub.status.busy": "2022-05-07T00:03:41.110718Z",
     "iopub.status.idle": "2022-05-07T00:03:41.131519Z",
     "shell.execute_reply": "2022-05-07T00:03:41.130853Z"
    },
    "papermill": {
     "duration": 0.06774,
     "end_time": "2022-05-07T00:03:41.133327",
     "exception": false,
     "start_time": "2022-05-07T00:03:41.065587",
     "status": "completed"
    },
    "tags": []
   },
   "outputs": [],
   "source": [
    "model.compile(optimizer='Adam', loss = tf.keras.losses.CategoricalCrossentropy(),metrics=METRICS)"
   ]
  },
  {
   "cell_type": "markdown",
   "id": "b445f6b6",
   "metadata": {
    "papermill": {
     "duration": 0.044778,
     "end_time": "2022-05-07T00:03:41.222428",
     "exception": false,
     "start_time": "2022-05-07T00:03:41.177650",
     "status": "completed"
    },
    "tags": []
   },
   "source": [
    "# Training"
   ]
  },
  {
   "cell_type": "code",
   "execution_count": 22,
   "id": "9616ec72",
   "metadata": {
    "execution": {
     "iopub.execute_input": "2022-05-07T00:03:41.314968Z",
     "iopub.status.busy": "2022-05-07T00:03:41.314688Z",
     "iopub.status.idle": "2022-05-07T00:04:54.427192Z",
     "shell.execute_reply": "2022-05-07T00:04:54.426018Z"
    },
    "papermill": {
     "duration": 73.162493,
     "end_time": "2022-05-07T00:04:54.431207",
     "exception": false,
     "start_time": "2022-05-07T00:03:41.268714",
     "status": "completed"
    },
    "tags": []
   },
   "outputs": [
    {
     "name": "stdout",
     "output_type": "stream",
     "text": [
      "CPU times: user 4 µs, sys: 0 ns, total: 4 µs\n",
      "Wall time: 7.39 µs\n"
     ]
    },
    {
     "name": "stderr",
     "output_type": "stream",
     "text": [
      "2022-05-07 00:03:41.323445: W tensorflow/core/framework/cpu_allocator_impl.cc:80] Allocation of 1352902500 exceeds 10% of free system memory.\n",
      "2022-05-07 00:03:42.748376: W tensorflow/core/framework/cpu_allocator_impl.cc:80] Allocation of 1352902500 exceeds 10% of free system memory.\n",
      "2022-05-07 00:03:43.781598: I tensorflow/compiler/mlir/mlir_graph_optimization_pass.cc:185] None of the MLIR Optimization Passes are enabled (registered 2)\n"
     ]
    },
    {
     "name": "stdout",
     "output_type": "stream",
     "text": [
      "Epoch 1/20\n"
     ]
    },
    {
     "name": "stderr",
     "output_type": "stream",
     "text": [
      "2022-05-07 00:03:49.157520: I tensorflow/stream_executor/cuda/cuda_dnn.cc:369] Loaded cuDNN version 8005\n"
     ]
    },
    {
     "name": "stdout",
     "output_type": "stream",
     "text": [
      "70/70 [==============================] - 18s 101ms/step - loss: 2.0189 - accuracy: 0.6821 - precision: 0.6868 - recall: 0.6794 - auc: 0.8469 - f1_score: 1.0231 - val_loss: 0.5611 - val_accuracy: 0.7863 - val_precision: 0.7878 - val_recall: 0.7782 - val_auc: 0.9242 - val_f1_score: 1.1784\n",
      "Epoch 2/20\n",
      "70/70 [==============================] - 4s 61ms/step - loss: 0.4494 - accuracy: 0.8154 - precision: 0.8183 - recall: 0.8128 - auc: 0.9462 - f1_score: 1.2234 - val_loss: 0.6121 - val_accuracy: 0.7500 - val_precision: 0.7500 - val_recall: 0.7500 - val_auc: 0.9148 - val_f1_score: 1.1270\n",
      "Epoch 3/20\n",
      "70/70 [==============================] - 4s 64ms/step - loss: 0.4757 - accuracy: 0.8096 - precision: 0.8119 - recall: 0.8083 - auc: 0.9465 - f1_score: 1.2152 - val_loss: 0.6903 - val_accuracy: 0.7218 - val_precision: 0.7218 - val_recall: 0.7218 - val_auc: 0.9047 - val_f1_score: 1.0840\n",
      "Epoch 4/20\n",
      "70/70 [==============================] - 4s 59ms/step - loss: 0.2735 - accuracy: 0.8904 - precision: 0.8916 - recall: 0.8900 - auc: 0.9789 - f1_score: 1.3367 - val_loss: 0.6350 - val_accuracy: 0.7661 - val_precision: 0.7661 - val_recall: 0.7661 - val_auc: 0.9164 - val_f1_score: 1.1523\n",
      "Epoch 5/20\n",
      "70/70 [==============================] - 4s 61ms/step - loss: 0.1690 - accuracy: 0.9353 - precision: 0.9353 - recall: 0.9353 - auc: 0.9916 - f1_score: 1.4022 - val_loss: 0.6763 - val_accuracy: 0.7903 - val_precision: 0.7903 - val_recall: 0.7903 - val_auc: 0.9298 - val_f1_score: 1.1855\n",
      "Epoch 6/20\n",
      "70/70 [==============================] - 4s 60ms/step - loss: 0.1297 - accuracy: 0.9497 - precision: 0.9497 - recall: 0.9493 - auc: 0.9953 - f1_score: 1.4242 - val_loss: 0.6796 - val_accuracy: 0.7782 - val_precision: 0.7782 - val_recall: 0.7782 - val_auc: 0.9282 - val_f1_score: 1.1680\n",
      "Epoch 7/20\n",
      "70/70 [==============================] - 4s 60ms/step - loss: 0.1331 - accuracy: 0.9461 - precision: 0.9461 - recall: 0.9461 - auc: 0.9946 - f1_score: 1.4196 - val_loss: 0.8307 - val_accuracy: 0.7702 - val_precision: 0.7702 - val_recall: 0.7702 - val_auc: 0.9031 - val_f1_score: 1.1582\n",
      "Epoch 8/20\n",
      "70/70 [==============================] - 4s 60ms/step - loss: 0.1046 - accuracy: 0.9614 - precision: 0.9614 - recall: 0.9614 - auc: 0.9968 - f1_score: 1.4420 - val_loss: 0.8527 - val_accuracy: 0.7702 - val_precision: 0.7702 - val_recall: 0.7702 - val_auc: 0.9117 - val_f1_score: 1.1602\n",
      "Epoch 9/20\n",
      "70/70 [==============================] - 4s 61ms/step - loss: 0.1110 - accuracy: 0.9555 - precision: 0.9560 - recall: 0.9555 - auc: 0.9960 - f1_score: 1.4336 - val_loss: 0.8673 - val_accuracy: 0.7540 - val_precision: 0.7540 - val_recall: 0.7540 - val_auc: 0.8966 - val_f1_score: 1.1309\n",
      "Epoch 10/20\n",
      "70/70 [==============================] - 4s 59ms/step - loss: 0.0611 - accuracy: 0.9802 - precision: 0.9807 - recall: 0.9802 - auc: 0.9986 - f1_score: 1.4708 - val_loss: 1.0140 - val_accuracy: 0.8145 - val_precision: 0.8145 - val_recall: 0.8145 - val_auc: 0.9088 - val_f1_score: 1.2207\n",
      "Epoch 11/20\n",
      "70/70 [==============================] - 4s 64ms/step - loss: 0.0373 - accuracy: 0.9906 - precision: 0.9906 - recall: 0.9906 - auc: 0.9993 - f1_score: 1.4859 - val_loss: 1.0021 - val_accuracy: 0.7984 - val_precision: 0.7984 - val_recall: 0.7984 - val_auc: 0.9130 - val_f1_score: 1.1992\n",
      "\n",
      "Epoch 00011: ReduceLROnPlateau reducing learning rate to 0.0005000000237487257.\n",
      "Epoch 00011: early stopping\n"
     ]
    }
   ],
   "source": [
    "%time\n",
    "history=model.fit(x_train,y_train,validation_data=(x_val,y_val),epochs = 20,verbose = 1,callbacks=[lrd,mcp,es])"
   ]
  },
  {
   "cell_type": "code",
   "execution_count": 23,
   "id": "7cdcc413",
   "metadata": {
    "execution": {
     "iopub.execute_input": "2022-05-07T00:04:55.304653Z",
     "iopub.status.busy": "2022-05-07T00:04:55.304370Z",
     "iopub.status.idle": "2022-05-07T00:04:55.696480Z",
     "shell.execute_reply": "2022-05-07T00:04:55.695754Z"
    },
    "papermill": {
     "duration": 0.751778,
     "end_time": "2022-05-07T00:04:55.698966",
     "exception": false,
     "start_time": "2022-05-07T00:04:54.947188",
     "status": "completed"
    },
    "tags": []
   },
   "outputs": [
    {
     "data": {
      "image/png": "[encoded data removed]",
      "text/plain": [
       "<Figure size 1080x720 with 2 Axes>"
      ]
     },
     "metadata": {
      "needs_background": "light"
     },
     "output_type": "display_data"
    }
   ],
   "source": [
    "acc = history.history['recall']\n",
    "val_acc = history.history['val_recall']\n",
    "loss = history.history['loss']\n",
    "val_loss = history.history['val_loss']\n",
    "epochs_range = range(len(history.history['val_loss']))\n",
    "plt.figure(figsize=(15, 10))\n",
    "plt.subplot(1, 2, 1)\n",
    "plt.plot(epochs_range, acc, label='Training Recall')\n",
    "plt.plot(epochs_range, val_acc, label='Validation Recall')\n",
    "plt.legend(loc='lower right')\n",
    "plt.title('Training and Validation Recall')\n",
    "plt.subplot(1, 2, 2)\n",
    "plt.plot(epochs_range, loss, label='Training Loss')\n",
    "plt.plot(epochs_range, val_loss, label='Validation Loss')\n",
    "plt.legend(loc='upper right')\n",
    "plt.title('Training and Validation Loss')\n",
    "plt.show()"
   ]
  },
  {
   "cell_type": "markdown",
   "id": "6587448b",
   "metadata": {
    "papermill": {
     "duration": 0.30762,
     "end_time": "2022-05-07T00:04:56.303340",
     "exception": false,
     "start_time": "2022-05-07T00:04:55.995720",
     "status": "completed"
    },
    "tags": []
   },
   "source": [
    "# Prediction"
   ]
  },
  {
   "cell_type": "code",
   "execution_count": 24,
   "id": "9f2f2489",
   "metadata": {
    "execution": {
     "iopub.execute_input": "2022-05-07T00:04:56.918076Z",
     "iopub.status.busy": "2022-05-07T00:04:56.917771Z",
     "iopub.status.idle": "2022-05-07T00:04:56.931130Z",
     "shell.execute_reply": "2022-05-07T00:04:56.930408Z"
    },
    "papermill": {
     "duration": 0.316717,
     "end_time": "2022-05-07T00:04:56.933078",
     "exception": false,
     "start_time": "2022-05-07T00:04:56.616361",
     "status": "completed"
    },
    "tags": []
   },
   "outputs": [],
   "source": [
    "def plot_confusion_matrix(cm, classes, normalize=True, title='Confusion matrix', cmap=plt.cm.Blues):\n",
    "    \n",
    "    plt.figure(figsize=(10,10))\n",
    "    plt.imshow(cm, interpolation='nearest', cmap=cmap)\n",
    "    plt.title(title)\n",
    "    plt.colorbar()\n",
    "    tick_marks = np.arange(len(classes))\n",
    "    plt.xticks(tick_marks, classes, rotation=45)\n",
    "    plt.yticks(tick_marks, classes)\n",
    "    if normalize:\n",
    "        cm = cm.astype('float') / cm.sum(axis=1)[:, np.newaxis]\n",
    "        cm = np.around(cm, decimals=2)\n",
    "        cm[np.isnan(cm)] = 0.0\n",
    "    thresh = cm.max() / 2.\n",
    "    for i, j in itertools.product(range(cm.shape[0]), range(cm.shape[1])):\n",
    "        plt.text(j, i, cm[i, j],\n",
    "                 horizontalalignment=\"center\",\n",
    "                 color=\"white\" if cm[i, j] > thresh else \"black\")\n",
    "    plt.tight_layout()\n",
    "    plt.ylabel('True label')\n",
    "    plt.xlabel('Predicted label')"
   ]
  },
  {
   "cell_type": "code",
   "execution_count": 25,
   "id": "1f0d5c4b",
   "metadata": {
    "execution": {
     "iopub.execute_input": "2022-05-07T00:04:57.536477Z",
     "iopub.status.busy": "2022-05-07T00:04:57.536222Z",
     "iopub.status.idle": "2022-05-07T00:05:00.906185Z",
     "shell.execute_reply": "2022-05-07T00:05:00.905398Z"
    },
    "papermill": {
     "duration": 3.675156,
     "end_time": "2022-05-07T00:05:00.908088",
     "exception": false,
     "start_time": "2022-05-07T00:04:57.232932",
     "status": "completed"
    },
    "tags": []
   },
   "outputs": [
    {
     "name": "stdout",
     "output_type": "stream",
     "text": [
      "Confusion Matrix\n",
      "Classification Report\n",
      "              precision    recall  f1-score   support\n",
      "\n",
      "      Healty       0.90      0.97      0.93        95\n",
      "     Caution       0.78      0.81      0.80       129\n",
      "      Severe       0.62      0.47      0.53        51\n",
      "\n",
      "    accuracy                           0.80       275\n",
      "   macro avg       0.77      0.75      0.76       275\n",
      "weighted avg       0.79      0.80      0.80       275\n",
      "\n"
     ]
    },
    {
     "data": {
      "image/png": "[encoded data removed]",
      "text/plain": [
       "<Figure size 720x720 with 2 Axes>"
      ]
     },
     "metadata": {
      "needs_background": "light"
     },
     "output_type": "display_data"
    }
   ],
   "source": [
    "y_pred = (model.predict(x_test) > 0.5).astype(\"int32\")\n",
    "\n",
    "y_test_c = np.argmax(y_test, axis=1)\n",
    "target_names = [\"Healty\", \"Caution\", \"Severe\"]\n",
    "\n",
    "Y_pred = np.argmax(model.predict(x_test),axis=1)\n",
    "print('Confusion Matrix')\n",
    "cm = confusion_matrix(y_test_c, Y_pred)\n",
    "plot_confusion_matrix(cm, target_names, normalize=False, title='Confusion Matrix')\n",
    "\n",
    "print('Classification Report')\n",
    "print(classification_report(y_test_c, Y_pred, target_names=target_names))"
   ]
  },
  {
   "cell_type": "markdown",
   "id": "07f216c9",
   "metadata": {
    "papermill": {
     "duration": 0.296964,
     "end_time": "2022-05-07T00:05:01.509948",
     "exception": false,
     "start_time": "2022-05-07T00:05:01.212984",
     "status": "completed"
    },
    "tags": []
   },
   "source": [
    "# Conclution\n",
    "\n",
    "As first step, we have to reduce the missed 'Caution' and 'Severe' by this model. In practical, when we get the result 'Caution' or 'Severe', we should examine them again carefully. But we can reduce time and cost by screening　with this kind of model."
   ]
  },
  {
   "cell_type": "code",
   "execution_count": null,
   "id": "597f9b32",
   "metadata": {
    "papermill": {
     "duration": 0.295278,
     "end_time": "2022-05-07T00:05:02.104377",
     "exception": false,
     "start_time": "2022-05-07T00:05:01.809099",
     "status": "completed"
    },
    "tags": []
   },
   "outputs": [],
   "source": []
  }
 ],
 "metadata": {
  "kernelspec": {
   "display_name": "Python 3",
   "language": "python",
   "name": "python3"
  },
  "language_info": {
   "codemirror_mode": {
    "name": "ipython",
    "version": 3
   },
   "file_extension": ".py",
   "mimetype": "text/x-python",
   "name": "python",
   "nbconvert_exporter": "python",
   "pygments_lexer": "ipython3",
   "version": "3.8.8"
  },
  "papermill": {
   "default_parameters": {},
   "duration": 133.379619,
   "end_time": "2022-05-07T00:05:05.349989",
   "environment_variables": {},
   "exception": null,
   "input_path": "__notebook__.ipynb",
   "output_path": "__notebook__.ipynb",
   "parameters": {},
   "start_time": "2022-05-07T00:02:51.970370",
   "version": "2.3.4"
  }
 },
 "nbformat": 4,
 "nbformat_minor": 5
}
